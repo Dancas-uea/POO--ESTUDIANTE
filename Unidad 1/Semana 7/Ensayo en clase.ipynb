{
 "cells": [
  {
   "cell_type": "code",
   "execution_count": 1,
   "id": "initial_id",
   "metadata": {
    "collapsed": true,
    "execution": {
     "iopub.execute_input": "2025-07-18T03:30:53.143649Z",
     "iopub.status.busy": "2025-07-18T03:30:53.142959Z",
     "iopub.status.idle": "2025-07-18T03:30:53.165049Z",
     "shell.execute_reply": "2025-07-18T03:30:53.162389Z"
    }
   },
   "outputs": [
    {
     "name": "stdout",
     "output_type": "stream",
     "text": [
      "Se creó una mascota: Firulais (perro)\n"
     ]
    }
   ],
   "source": [
    "class Mascota:\n",
    "    def __init__(self, nombre, tipo):\n",
    "        self.nombre = nombre\n",
    "        self.tipo = tipo\n",
    "        print(f'Se creó una mascota: {self.nombre} ({self.tipo})')\n",
    "\n",
    "    def __del__(self):\n",
    "        \"\"\"Destructor simple\"\"\"\n",
    "        print(f'La mascota {self.nombre} se ha ido :(')\n",
    "\n",
    "mi_mascota = Mascota(\"Firulais\", \"perro\")\n"
   ]
  },
  {
   "cell_type": "code",
   "execution_count": 2,
   "id": "98bcbe4eb7f2f04d",
   "metadata": {
    "ExecuteTime": {
     "end_time": "2025-07-12T18:22:23.140135Z",
     "start_time": "2025-07-12T18:22:23.118751Z"
    },
    "execution": {
     "iopub.execute_input": "2025-07-18T03:30:53.172418Z",
     "iopub.status.busy": "2025-07-18T03:30:53.171432Z",
     "iopub.status.idle": "2025-07-18T03:30:53.184202Z",
     "shell.execute_reply": "2025-07-18T03:30:53.182085Z"
    }
   },
   "outputs": [
    {
     "name": "stdout",
     "output_type": "stream",
     "text": [
      "Ha nacido una rosa de color rojo!\n"
     ]
    }
   ],
   "source": [
    "class Flor:\n",
    "    def __init__(self, nombre, color):\n",
    "        self.nombre = nombre\n",
    "        self.color = color\n",
    "        print(f'Ha nacido una {self.nombre} de color {self.color}!')\n",
    "\n",
    "    def __del__(self):\n",
    "        print(f'La flor {self.nombre} se ha marchitado...')\n",
    "\n",
    "mi_flor = Flor(\"rosa\", \"rojo\")\n"
   ]
  }
 ],
 "metadata": {
  "kernelspec": {
   "display_name": "Python 3",
   "language": "python",
   "name": "python3"
  },
  "language_info": {
   "codemirror_mode": {
    "name": "ipython",
    "version": 3
   },
   "file_extension": ".py",
   "mimetype": "text/x-python",
   "name": "python",
   "nbconvert_exporter": "python",
   "pygments_lexer": "ipython3",
   "version": "3.13.2"
  }
 },
 "nbformat": 4,
 "nbformat_minor": 5
}
