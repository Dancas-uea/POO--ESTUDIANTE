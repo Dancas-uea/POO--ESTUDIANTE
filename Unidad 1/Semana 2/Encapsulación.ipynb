{
 "cells": [
  {
   "cell_type": "code",
   "id": "initial_id",
   "metadata": {
    "collapsed": true,
    "ExecuteTime": {
     "end_time": "2025-07-18T01:40:45.543678Z",
     "start_time": "2025-07-18T01:40:45.526861Z"
    }
   },
   "source": [
    "class CuentaBancaria:\n",
    "    def __init__(self, saldo_inicial=0):\n",
    "        self.__saldo = saldo_inicial  # Atributo privado\n",
    "\n",
    "    def depositar(self, cantidad):\n",
    "        if cantidad > 0:\n",
    "            self.__saldo += cantidad\n",
    "            print(f\"Depósito exitoso. Saldo actual: {self.__saldo}\")\n",
    "        else:\n",
    "            print(\"Cantidad inválida.\")\n",
    "\n",
    "    def obtener_saldo(self):\n",
    "        return self.__saldo\n",
    "\n",
    "# Uso\n",
    "cuenta = CuentaBancaria(100)\n",
    "cuenta.depositar(50)          # Salida: Depósito exitoso. Saldo actual: 150\n",
    "print(cuenta.obtener_saldo())  # Salida: 150\n",
    "# print(cuenta.__saldo)        # Error: Atributo privado (no accesible directamente)."
   ],
   "outputs": [
    {
     "name": "stdout",
     "output_type": "stream",
     "text": [
      "Depósito exitoso. Saldo actual: 150\n",
      "150\n"
     ]
    }
   ],
   "execution_count": 1
  },
  {
   "metadata": {},
   "cell_type": "code",
   "outputs": [],
   "execution_count": null,
   "source": "",
   "id": "cdd9a5fe4e9fc37c"
  }
 ],
 "metadata": {
  "kernelspec": {
   "display_name": "Python 3",
   "language": "python",
   "name": "python3"
  },
  "language_info": {
   "codemirror_mode": {
    "name": "ipython",
    "version": 2
   },
   "file_extension": ".py",
   "mimetype": "text/x-python",
   "name": "python",
   "nbconvert_exporter": "python",
   "pygments_lexer": "ipython2",
   "version": "2.7.6"
  }
 },
 "nbformat": 4,
 "nbformat_minor": 5
}
