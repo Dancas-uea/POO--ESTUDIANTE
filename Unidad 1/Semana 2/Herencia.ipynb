{
 "cells": [
  {
   "metadata": {},
   "cell_type": "code",
   "outputs": [],
   "execution_count": null,
   "source": [
    "class Vehiculo:\n",
    "    def __init__(self, marca, modelo):\n",
    "        self.marca = marca\n",
    "        self.modelo = modelo\n",
    "\n",
    "    def descripcion(self):\n",
    "        return f\"{self.marca} {self.modelo}\"\n",
    "\n",
    "class Coche(Vehiculo):\n",
    "    def __init__(self, marca, modelo, num_puertas):\n",
    "        super().__init__(marca, modelo)\n",
    "        self.num_puertas = num_puertas\n",
    "\n",
    "    def descripcion(self):\n",
    "        return f\"{super().descripcion()}, {self.num_puertas} puertas\"\n",
    "\n",
    "# Uso\n",
    "mi_coche = Coche(\"Toyota\", \"Corolla\", 4)\n",
    "print(mi_coche.descripcion())  # Salida: Toyota Corolla, 4 puertas"
   ],
   "id": "fc9d9bd6064360"
  }
 ],
 "metadata": {
  "kernelspec": {
   "display_name": "Python 3",
   "language": "python",
   "name": "python3"
  },
  "language_info": {
   "codemirror_mode": {
    "name": "ipython",
    "version": 2
   },
   "file_extension": ".py",
   "mimetype": "text/x-python",
   "name": "python",
   "nbconvert_exporter": "python",
   "pygments_lexer": "ipython2",
   "version": "2.7.6"
  }
 },
 "nbformat": 4,
 "nbformat_minor": 5
}
