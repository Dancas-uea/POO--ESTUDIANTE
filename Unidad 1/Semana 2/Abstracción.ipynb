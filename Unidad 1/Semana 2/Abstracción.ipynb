{
 "cells": [
  {
   "cell_type": "code",
   "execution_count": 1,
   "id": "initial_id",
   "metadata": {
    "ExecuteTime": {
     "end_time": "2025-07-18T01:40:28.354548Z",
     "start_time": "2025-07-18T01:40:28.330636Z"
    },
    "collapsed": true,
    "execution": {
     "iopub.execute_input": "2025-07-18T03:29:54.157421Z",
     "iopub.status.busy": "2025-07-18T03:29:54.156635Z",
     "iopub.status.idle": "2025-07-18T03:29:54.178265Z",
     "shell.execute_reply": "2025-07-18T03:29:54.176148Z"
    }
   },
   "outputs": [
    {
     "name": "stdout",
     "output_type": "stream",
     "text": [
      "¡Guau guau!\n",
      "¡Miau!\n"
     ]
    }
   ],
   "source": [
    "from abc import ABC, abstractmethod\n",
    "\n",
    "class Animal(ABC):\n",
    "    @abstractmethod\n",
    "    def hacer_sonido(self):\n",
    "        pass\n",
    "\n",
    "class Perro(Animal):\n",
    "    def hacer_sonido(self):\n",
    "        print(\"¡Guau guau!\")\n",
    "\n",
    "class Gato(Animal):\n",
    "    def hacer_sonido(self):\n",
    "        print(\"¡Miau!\")\n",
    "\n",
    "# Uso\n",
    "mi_perro = Perro()\n",
    "mi_perro.hacer_sonido()  # Salida: ¡Guau guau!\n",
    "\n",
    "mi_gato = Gato()\n",
    "mi_gato.hacer_sonido()   # Salida: ¡Miau!"
   ]
  },
  {
   "cell_type": "code",
   "execution_count": null,
   "id": "5258d2a78d4bce6d",
   "metadata": {},
   "outputs": [],
   "source": []
  }
 ],
 "metadata": {
  "kernelspec": {
   "display_name": "Python 3",
   "language": "python",
   "name": "python3"
  },
  "language_info": {
   "codemirror_mode": {
    "name": "ipython",
    "version": 3
   },
   "file_extension": ".py",
   "mimetype": "text/x-python",
   "name": "python",
   "nbconvert_exporter": "python",
   "pygments_lexer": "ipython3",
   "version": "3.13.2"
  }
 },
 "nbformat": 4,
 "nbformat_minor": 5
}
