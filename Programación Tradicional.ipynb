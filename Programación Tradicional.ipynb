{
 "cells": [
  {
   "cell_type": "code",
   "id": "initial_id",
   "metadata": {
    "collapsed": true,
    "ExecuteTime": {
     "end_time": "2025-06-14T21:02:49.067421Z",
     "start_time": "2025-06-14T21:02:35.763946Z"
    }
   },
   "source": [
    "# Programa para calcular el promedio semanal de temperaturas (enfoque tradicional)\n",
    "\n",
    "def ingresar_temperaturas():\n",
    "    \"\"\"\n",
    "    Función para ingresar las temperaturas de cada día de la semana.\n",
    "    Retorna una lista con las 7 temperaturas.\n",
    "    \"\"\"\n",
    "    dias = [\"Lunes\", \"Martes\", \"Miércoles\", \"Jueves\", \"Viernes\", \"Sábado\", \"Domingo\"]\n",
    "    temperaturas = []\n",
    "\n",
    "    print(\"Ingrese las temperaturas para cada día de la semana:\")\n",
    "    for dia in dias:\n",
    "        while True:\n",
    "            try:\n",
    "                temp = float(input(f\"{dia}: \"))\n",
    "                temperaturas.append(temp)\n",
    "                break\n",
    "            except ValueError:\n",
    "                print(\"Por favor ingrese un número válido.\")\n",
    "\n",
    "    return temperaturas\n",
    "\n",
    "def calcular_promedio(temps):\n",
    "    \"\"\"\n",
    "    Calcula el promedio de temperaturas para la semana.\n",
    "    Recibe la lista de temperaturas y retorna el promedio.\n",
    "    \"\"\"\n",
    "    return sum(temps) / len(temps)\n",
    "\n",
    "def mostrar_resultado(promedio):\n",
    "    \"\"\"\n",
    "    Muestra el resultado del promedio de temperaturas.\n",
    "    \"\"\"\n",
    "    print(f\"\\nEl promedio semanal de temperaturas es: {promedio:.2f}°C\")\n",
    "\n",
    "def main():\n",
    "    \"\"\"\n",
    "    Función principal que orquesta el programa.\n",
    "    \"\"\"\n",
    "    # Ingreso de datos\n",
    "    temps_semana = ingresar_temperaturas()\n",
    "\n",
    "    # Cálculo del promedio\n",
    "    promedio = calcular_promedio(temps_semana)\n",
    "\n",
    "    # Mostrar resultado\n",
    "    mostrar_resultado(promedio)\n",
    "\n",
    "if __name__ == \"__main__\":\n",
    "    main()"
   ],
   "outputs": [
    {
     "name": "stdout",
     "output_type": "stream",
     "text": [
      "Ingrese las temperaturas para cada día de la semana:\n",
      "Por favor ingrese un número válido.\n",
      "\n",
      "El promedio semanal de temperaturas es: 20.57°C\n"
     ]
    }
   ],
   "execution_count": 1
  }
 ],
 "metadata": {
  "kernelspec": {
   "display_name": "Python 3",
   "language": "python",
   "name": "python3"
  },
  "language_info": {
   "codemirror_mode": {
    "name": "ipython",
    "version": 2
   },
   "file_extension": ".py",
   "mimetype": "text/x-python",
   "name": "python",
   "nbconvert_exporter": "python",
   "pygments_lexer": "ipython2",
   "version": "2.7.6"
  }
 },
 "nbformat": 4,
 "nbformat_minor": 5
}
