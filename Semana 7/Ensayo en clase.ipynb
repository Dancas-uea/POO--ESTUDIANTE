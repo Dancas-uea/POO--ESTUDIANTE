{
 "cells": [
  {
   "cell_type": "code",
   "id": "initial_id",
   "metadata": {
    "collapsed": true,
    "ExecuteTime": {
     "end_time": "2025-07-12T18:18:45.933778Z",
     "start_time": "2025-07-12T18:18:45.917035Z"
    }
   },
   "source": [
    "class Mascota:\n",
    "    def __init__(self, nombre, tipo):\n",
    "        self.nombre = nombre\n",
    "        self.tipo = tipo\n",
    "        print(f'Se creó una mascota: {self.nombre} ({self.tipo})')\n",
    "\n",
    "    def __del__(self):\n",
    "        \"\"\"Destructor simple\"\"\"\n",
    "        print(f'La mascota {self.nombre} se ha ido :(')\n",
    "\n",
    "mi_mascota = Mascota(\"Firulais\", \"perro\")\n"
   ],
   "outputs": [
    {
     "name": "stdout",
     "output_type": "stream",
     "text": [
      "Se creó una mascota: Firulais (perro)\n"
     ]
    }
   ],
   "execution_count": 1
  },
  {
   "metadata": {
    "ExecuteTime": {
     "end_time": "2025-07-12T18:22:23.140135Z",
     "start_time": "2025-07-12T18:22:23.118751Z"
    }
   },
   "cell_type": "code",
   "source": [
    "class Flor:\n",
    "    def __init__(self, nombre, color):\n",
    "        self.nombre = nombre\n",
    "        self.color = color\n",
    "        print(f'Ha nacido una {self.nombre} de color {self.color}!')\n",
    "\n",
    "    def __del__(self):\n",
    "        print(f'La flor {self.nombre} se ha marchitado...')\n",
    "\n",
    "mi_flor = Flor(\"rosa\", \"rojo\")\n"
   ],
   "id": "98bcbe4eb7f2f04d",
   "outputs": [
    {
     "name": "stdout",
     "output_type": "stream",
     "text": [
      "Ha nacido una rosa de color rojo!\n",
      "La flor rosa se ha marchitado...\n"
     ]
    }
   ],
   "execution_count": 4
  }
 ],
 "metadata": {
  "kernelspec": {
   "display_name": "Python 3",
   "language": "python",
   "name": "python3"
  },
  "language_info": {
   "codemirror_mode": {
    "name": "ipython",
    "version": 2
   },
   "file_extension": ".py",
   "mimetype": "text/x-python",
   "name": "python",
   "nbconvert_exporter": "python",
   "pygments_lexer": "ipython2",
   "version": "2.7.6"
  }
 },
 "nbformat": 4,
 "nbformat_minor": 5
}
