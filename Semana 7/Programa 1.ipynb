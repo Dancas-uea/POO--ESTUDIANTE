{
 "cells": [
  {
   "cell_type": "code",
   "id": "initial_id",
   "metadata": {
    "collapsed": true,
    "ExecuteTime": {
     "end_time": "2025-07-09T03:20:17.779407Z",
     "start_time": "2025-07-09T03:20:17.758910Z"
    }
   },
   "source": [
    "class Persona:\n",
    "    def __init__(self, nombre, edad):\n",
    "        \"\"\"Constructor - Se ejecuta al crear el objeto\"\"\"\n",
    "        self.nombre = nombre\n",
    "        self.edad = edad\n",
    "        print(f\"Se creó una persona: {self.nombre}\")\n",
    "\n",
    "    def __del__(self):\n",
    "        \"\"\"Destructor - Se ejecuta al eliminar el objeto\"\"\"\n",
    "        print(f\"Se elimina a {self.nombre} de la memoria\")\n",
    "\n",
    "    def presentarse(self):\n",
    "        \"\"\"Método normal de la clase\"\"\"\n",
    "        print(f\"Hola, soy {self.nombre} y tengo {self.edad} años\")\n",
    "\n",
    "\n",
    "# Creación de objetos (se llama al constructor)\n",
    "persona1 = Persona(\"Juan\", 25)\n",
    "persona2 = Persona(\"María\", 30)\n",
    "\n",
    "# Usamos los objetos\n",
    "persona1.presentarse()\n",
    "persona2.presentarse()\n",
    "\n",
    "# Los destructores se llamarán automáticamente\n",
    "# cuando el programa termine o los objetos se eliminen\n",
    "print(\"Fin del programa\")"
   ],
   "outputs": [
    {
     "name": "stdout",
     "output_type": "stream",
     "text": [
      "Se creó una persona: Juan\n",
      "Se creó una persona: María\n",
      "Hola, soy Juan y tengo 25 años\n",
      "Hola, soy María y tengo 30 años\n",
      "Fin del programa\n"
     ]
    }
   ],
   "execution_count": 1
  },
  {
   "metadata": {},
   "cell_type": "code",
   "outputs": [],
   "execution_count": null,
   "source": "",
   "id": "36db4e1bce2e8ed"
  }
 ],
 "metadata": {
  "kernelspec": {
   "display_name": "Python 3",
   "language": "python",
   "name": "python3"
  },
  "language_info": {
   "codemirror_mode": {
    "name": "ipython",
    "version": 2
   },
   "file_extension": ".py",
   "mimetype": "text/x-python",
   "name": "python",
   "nbconvert_exporter": "python",
   "pygments_lexer": "ipython2",
   "version": "2.7.6"
  }
 },
 "nbformat": 4,
 "nbformat_minor": 5
}
