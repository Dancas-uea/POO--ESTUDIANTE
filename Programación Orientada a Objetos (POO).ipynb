{
 "cells": [
  {
   "cell_type": "code",
   "id": "initial_id",
   "metadata": {
    "collapsed": true,
    "jupyter": {
     "is_executing": true
    }
   },
   "source": [
    "# Programa para calcular el promedio semanal de temperaturas usando POO\n",
    "# Muestra cada día de la semana mientras el usuario ingresa las temperaturas\n",
    "\n",
    "class SemanaClima:\n",
    "    \"\"\"\n",
    "    Clase principal que representa una semana de registros climáticos.\n",
    "    - Guarda los días de la semana y sus temperaturas.\n",
    "    - Permite ingresar datos, calcular el promedio y mostrar resultados.\n",
    "    \"\"\"\n",
    "\n",
    "    def __init__(self):\n",
    "        \"\"\"\n",
    "        Constructor de la clase. Inicializa:\n",
    "        - Lista de días de la semana (atributo 'dias')\n",
    "        - Lista vacía para almacenar temperaturas (atributo 'temperaturas')\n",
    "        \"\"\"\n",
    "        self.dias = [\"Lunes\", \"Martes\", \"Miércoles\", \"Jueves\", \"Viernes\", \"Sábado\", \"Domingo\"]\n",
    "        self.temperaturas = []\n",
    "\n",
    "\n",
    "    def ingresar_temperaturas(self):\n",
    "        \"\"\"\n",
    "        Método para ingresar temperaturas día por día.\n",
    "\n",
    "        //Itera sobre cada día en 'self.dias'//\n",
    "        - Pide al usuario ingresar una temperatura válida (número).\n",
    "        - Si el valor no es numérico, muestra error y vuelve a pedirlo.\n",
    "        - Almacena cada temperatura en 'self.temperaturas'.\n",
    "        \"\"\"\n",
    "        print(\"\\nIngrese las temperaturas para cada día de la semana:\")\n",
    "\n",
    "        # Usamos enumerate para numerar los días (comenzando en 1)\n",
    "        for i, dia in enumerate(self.dias, 1):\n",
    "            while True:  # Bucle hasta que se ingrese un valor válido\n",
    "                try:\n",
    "                    # Pide la temperatura mostrando el número y nombre del día (ej: \"Día 1 (Lunes): \")\n",
    "                    temp = float(input(f\"Día {i} ({dia}): \"))\n",
    "                    self.temperaturas.append(temp)  # Guarda la temperatura\n",
    "                    break  # Sale del bucle si el dato es válido\n",
    "                except ValueError:\n",
    "                    print(\"¡Error! Por favor ingrese un número válido.\")  # Mensaje si no es número\n",
    "\n",
    "\n",
    "    def calcular_promedio(self):\n",
    "        \"\"\"\n",
    "        Calcula el promedio de temperaturas de la semana.\n",
    "\n",
    "        - Suma todas las temperaturas.\n",
    "        - Divide entre la cantidad de días (7).\n",
    "        - Retorna el resultado.\n",
    "        \"\"\"\n",
    "        return sum(self.temperaturas) / len(self.temperaturas)\n",
    "\n",
    "\n",
    "    def mostrar_resumen(self):\n",
    "        \"\"\"\n",
    "        Muestra un reporte con:\n",
    "        - Todas las temperaturas ingresadas por día.\n",
    "        - El promedio semanal con 2 decimales.\n",
    "        \"\"\"\n",
    "        print(\"\\nResumen semanal de temperaturas:\")\n",
    "\n",
    "        # Recorre días y temperaturas en paralelo con zip()\n",
    "        for dia, temp in zip(self.dias, self.temperaturas):\n",
    "            print(f\"- {dia}: {temp}°C\")  # Muestra cada día con su temperatura\n",
    "\n",
    "        # Calcula y muestra el promedio\n",
    "        promedio = self.calcular_promedio()\n",
    "        print(f\"\\nEl promedio semanal de temperaturas es: {promedio:.2f}°C\")\n",
    "def main():\n",
    "    \"\"\"\n",
    "    Función principal que ejecuta el programa:\n",
    "    1. Crea un objeto SemanaClima.\n",
    "    2. Llama al método para ingresar datos.\n",
    "    3. Muestra el resumen final.\n",
    "    \"\"\"\n",
    "    semana = SemanaClima()  # Crea una nueva semana de clima\n",
    "    semana.ingresar_temperaturas()  # Solicita las temperaturas\n",
    "    semana.mostrar_resumen()  # Imprime el reporte\n",
    "\n",
    "\n",
    "# Punto de entrada del programa\n",
    "if __name__ == \"__main__\":\n",
    "    main()  # Ejecuta la función principal"
   ],
   "outputs": [],
   "execution_count": null
  },
  {
   "metadata": {
    "ExecuteTime": {
     "end_time": "2025-06-15T23:03:34.970270Z",
     "start_time": "2025-06-15T23:03:34.964852Z"
    }
   },
   "cell_type": "code",
   "source": "",
   "id": "1941d15296827220",
   "outputs": [],
   "execution_count": null
  },
  {
   "metadata": {},
   "cell_type": "code",
   "outputs": [],
   "execution_count": null,
   "source": "",
   "id": "bd458bc3199c65c7"
  }
 ],
 "metadata": {
  "kernelspec": {
   "display_name": "Python 3",
   "language": "python",
   "name": "python3"
  },
  "language_info": {
   "codemirror_mode": {
    "name": "ipython",
    "version": 3
   },
   "file_extension": ".py",
   "mimetype": "text/x-python",
   "name": "python",
   "nbconvert_exporter": "python",
   "pygments_lexer": "ipython3",
   "version": "3.13.2"
  }
 },
 "nbformat": 4,
 "nbformat_minor": 5
}
