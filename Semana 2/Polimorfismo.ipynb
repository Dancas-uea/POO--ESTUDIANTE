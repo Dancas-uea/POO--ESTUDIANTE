{
 "cells": [
  {
   "cell_type": "code",
   "execution_count": null,
   "id": "initial_id",
   "metadata": {
    "collapsed": true
   },
   "outputs": [],
   "source": [
    "class Pajaro:\n",
    "    def volar(self):\n",
    "        print(\"El pájaro vuela.\")\n",
    "\n",
    "class Avion:\n",
    "    def volar(self):\n",
    "        print(\"El avión vuela con motor.\")\n",
    "\n",
    "def hacer_volar(objeto):\n",
    "    objeto.volar()\n",
    "\n",
    "# Uso\n",
    "pajaro = Pajaro()\n",
    "avion = Avion()\n",
    "\n",
    "hacer_volar(pajaro)  # Salida: El pájaro vuela.\n",
    "hacer_volar(avion)   # Salida: El avión vuela con motor."
   ]
  }
 ],
 "metadata": {
  "kernelspec": {
   "display_name": "Python 3",
   "language": "python",
   "name": "python3"
  },
  "language_info": {
   "codemirror_mode": {
    "name": "ipython",
    "version": 2
   },
   "file_extension": ".py",
   "mimetype": "text/x-python",
   "name": "python",
   "nbconvert_exporter": "python",
   "pygments_lexer": "ipython2",
   "version": "2.7.6"
  }
 },
 "nbformat": 4,
 "nbformat_minor": 5
}
