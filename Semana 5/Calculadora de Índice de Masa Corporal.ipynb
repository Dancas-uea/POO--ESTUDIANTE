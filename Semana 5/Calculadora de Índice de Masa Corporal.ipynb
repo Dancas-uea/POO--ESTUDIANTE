{
 "cells": [
  {
   "metadata": {
    "ExecuteTime": {
     "end_time": "2025-07-18T01:41:32.417727Z",
     "start_time": "2025-07-18T01:41:23.771979Z"
    }
   },
   "cell_type": "code",
   "source": [
    "\"\"\"\n",
    "CALCULADORA DE ÍNDICE DE MASA CORPORAL (IMC)\n",
    "---------------------------------------------\n",
    "Este programa calcula el Índice de Masa Corporal (IMC) basado en el peso y altura ingresados,\n",
    "y determina la categoría según los estándares de la OMS (Organización Mundial de la Salud).\n",
    "Incluye validación de datos numéricos positivos.\n",
    "\"\"\"\n",
    "\n",
    "def calcular_imc(peso_kg: float, altura_m: float) -> float:\n",
    "    \"\"\"\n",
    "    Calcula el IMC usando la fórmula estándar: peso (kg) / altura² (m).\n",
    "    - peso_kg: debe ser un valor positivo en kilogramos\n",
    "    - altura_m: debe ser un valor positivo en metros\n",
    "    Devuelve el IMC redondeado a 2 decimales.\n",
    "    \"\"\"\n",
    "    if peso_kg <= 0 or altura_m <= 0:\n",
    "        # Validación para valores positivos\n",
    "        raise ValueError(\"El peso y altura deben ser valores positivos\")\n",
    "    return round(peso_kg / (altura_m ** 2), 2)\n",
    "\n",
    "def clasificar_imc(imc: float) -> str:\n",
    "    \"\"\"\n",
    "    Clasifica el IMC en categorías nutricionales según la OMS:\n",
    "    - Bajo peso: IMC < 18.5\n",
    "    - Normal: 18.5 ≤ IMC < 25\n",
    "    - Sobrepeso: 25 ≤ IMC < 30\n",
    "    - Obesidad: IMC ≥ 30\n",
    "    \"\"\"\n",
    "    if imc < 18.5:\n",
    "        return \"Bajo peso\"\n",
    "    elif 18.5 <= imc < 25:\n",
    "        return \"Peso normal\"\n",
    "    elif 25 <= imc < 30:\n",
    "        return \"Sobrepeso\"\n",
    "    else:\n",
    "        return \"Obesidad\"\n",
    "\n",
    "def main():\n",
    "    \"\"\"Función principal que maneja el flujo del programa\"\"\"\n",
    "\n",
    "    # Entrada de datos con manejo de errores\n",
    "    try:\n",
    "        # Conversión de input a float (puede lanzar ValueError)\n",
    "        peso = float(input(\"Ingrese su peso en kg: \"))\n",
    "        altura = float(input(\"Ingrese su altura en m: \"))\n",
    "\n",
    "        # Cálculo del IMC\n",
    "        imc = calcular_imc(peso, altura)\n",
    "\n",
    "        # Clasificación y resultado\n",
    "        categoria = clasificar_imc(imc)\n",
    "        es_obeso = categoria == \"Obesidad\"\n",
    "\n",
    "        # Mostrar resultados (sin información de tipos)\n",
    "        print(f\"\\nIMC calculado: {imc}\")\n",
    "        print(f\"Categoría: {categoria}\")\n",
    "        print(f\"¿Es obeso?: {'Sí' if es_obeso else 'No'}\")\n",
    "\n",
    "    except ValueError as e:\n",
    "        # Manejo de errores para entradas no numéricas o valores inválidos\n",
    "        print(f\"Error: {str(e)}\")\n",
    "\n",
    "# Punto de entrada del programa\n",
    "if __name__ == \"__main__\":\n",
    "    main()"
   ],
   "id": "67084a5a67dae776",
   "outputs": [
    {
     "name": "stdout",
     "output_type": "stream",
     "text": [
      "\n",
      "IMC calculado: 0.0\n",
      "Categoría: Bajo peso\n",
      "¿Es obeso?: No\n"
     ]
    }
   ],
   "execution_count": 1
  },
  {
   "metadata": {},
   "cell_type": "code",
   "outputs": [],
   "execution_count": null,
   "source": "",
   "id": "d5d3ad21716851d"
  }
 ],
 "metadata": {
  "kernelspec": {
   "display_name": "Python 3",
   "language": "python",
   "name": "python3"
  },
  "language_info": {
   "codemirror_mode": {
    "name": "ipython",
    "version": 2
   },
   "file_extension": ".py",
   "mimetype": "text/x-python",
   "name": "python",
   "nbconvert_exporter": "python",
   "pygments_lexer": "ipython2",
   "version": "2.7.6"
  }
 },
 "nbformat": 4,
 "nbformat_minor": 5
}
